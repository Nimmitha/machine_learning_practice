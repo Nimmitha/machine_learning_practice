{
 "cells": [
  {
   "cell_type": "code",
   "execution_count": 2,
   "metadata": {},
   "outputs": [
    {
     "name": "stderr",
     "output_type": "stream",
     "text": [
      "2024-11-10 22:15:19.853980: I tensorflow/core/platform/cpu_feature_guard.cc:193] This TensorFlow binary is optimized with oneAPI Deep Neural Network Library (oneDNN) to use the following CPU instructions in performance-critical operations:  SSE4.1 SSE4.2 AVX AVX2 AVX512F AVX512_VNNI FMA\n",
      "To enable them in other operations, rebuild TensorFlow with the appropriate compiler flags.\n",
      "2024-11-10 22:15:20.047833: I tensorflow/core/util/util.cc:169] oneDNN custom operations are on. You may see slightly different numerical results due to floating-point round-off errors from different computation orders. To turn them off, set the environment variable `TF_ENABLE_ONEDNN_OPTS=0`.\n"
     ]
    }
   ],
   "source": [
    "import numpy as np\n",
    "import tensorflow as tf\n",
    "from tensorflow.keras.models import Sequential\n",
    "from tensorflow.keras.layers import Dense\n",
    "from sklearn.model_selection import train_test_split\n",
    "from sklearn.preprocessing import StandardScaler"
   ]
  },
  {
   "cell_type": "code",
   "execution_count": 3,
   "metadata": {},
   "outputs": [],
   "source": [
    "# create 1000 random numbers between 0 and 10\n",
    "trainX = np.random.rand(1000) * 10\n",
    "# assign 0 or 1 to each number based on whether it is greater than 5\n",
    "trainY = np.array([1 if x > 5 else 0 for x in trainX])"
   ]
  },
  {
   "cell_type": "code",
   "execution_count": 4,
   "metadata": {},
   "outputs": [],
   "source": [
    "# Assuming trainX and trainY are already defined\n",
    "# Split the data into training and testing sets\n",
    "X_train, X_test, y_train, y_test = train_test_split(trainX, trainY, test_size=0.2, random_state=42)"
   ]
  },
  {
   "cell_type": "code",
   "execution_count": 6,
   "metadata": {},
   "outputs": [
    {
     "name": "stderr",
     "output_type": "stream",
     "text": [
      "2024-11-10 22:15:23.483410: I tensorflow/stream_executor/cuda/cuda_gpu_executor.cc:966] could not open file to read NUMA node: /sys/bus/pci/devices/0000:01:00.0/numa_node\n",
      "Your kernel may have been built without NUMA support.\n",
      "2024-11-10 22:15:23.604645: I tensorflow/stream_executor/cuda/cuda_gpu_executor.cc:966] could not open file to read NUMA node: /sys/bus/pci/devices/0000:01:00.0/numa_node\n",
      "Your kernel may have been built without NUMA support.\n",
      "2024-11-10 22:15:23.604695: I tensorflow/stream_executor/cuda/cuda_gpu_executor.cc:966] could not open file to read NUMA node: /sys/bus/pci/devices/0000:01:00.0/numa_node\n",
      "Your kernel may have been built without NUMA support.\n",
      "2024-11-10 22:15:23.605459: I tensorflow/core/platform/cpu_feature_guard.cc:193] This TensorFlow binary is optimized with oneAPI Deep Neural Network Library (oneDNN) to use the following CPU instructions in performance-critical operations:  SSE4.1 SSE4.2 AVX AVX2 AVX512F AVX512_VNNI FMA\n",
      "To enable them in other operations, rebuild TensorFlow with the appropriate compiler flags.\n",
      "2024-11-10 22:15:23.608132: I tensorflow/stream_executor/cuda/cuda_gpu_executor.cc:966] could not open file to read NUMA node: /sys/bus/pci/devices/0000:01:00.0/numa_node\n",
      "Your kernel may have been built without NUMA support.\n",
      "2024-11-10 22:15:23.608176: I tensorflow/stream_executor/cuda/cuda_gpu_executor.cc:966] could not open file to read NUMA node: /sys/bus/pci/devices/0000:01:00.0/numa_node\n",
      "Your kernel may have been built without NUMA support.\n",
      "2024-11-10 22:15:23.608193: I tensorflow/stream_executor/cuda/cuda_gpu_executor.cc:966] could not open file to read NUMA node: /sys/bus/pci/devices/0000:01:00.0/numa_node\n",
      "Your kernel may have been built without NUMA support.\n",
      "2024-11-10 22:15:24.195529: I tensorflow/stream_executor/cuda/cuda_gpu_executor.cc:966] could not open file to read NUMA node: /sys/bus/pci/devices/0000:01:00.0/numa_node\n",
      "Your kernel may have been built without NUMA support.\n",
      "2024-11-10 22:15:24.195592: I tensorflow/stream_executor/cuda/cuda_gpu_executor.cc:966] could not open file to read NUMA node: /sys/bus/pci/devices/0000:01:00.0/numa_node\n",
      "Your kernel may have been built without NUMA support.\n",
      "2024-11-10 22:15:24.195600: I tensorflow/core/common_runtime/gpu/gpu_device.cc:1700] Could not identify NUMA node of platform GPU id 0, defaulting to 0.  Your kernel may not have been built with NUMA support.\n",
      "2024-11-10 22:15:24.195635: I tensorflow/stream_executor/cuda/cuda_gpu_executor.cc:966] could not open file to read NUMA node: /sys/bus/pci/devices/0000:01:00.0/numa_node\n",
      "Your kernel may have been built without NUMA support.\n",
      "2024-11-10 22:15:24.195682: I tensorflow/core/common_runtime/gpu/gpu_device.cc:1616] Created device /job:localhost/replica:0/task:0/device:GPU:0 with 1756 MB memory:  -> device: 0, name: NVIDIA GeForce RTX 3050 Ti Laptop GPU, pci bus id: 0000:01:00.0, compute capability: 8.6\n"
     ]
    }
   ],
   "source": [
    "# Define the neural network model\n",
    "model = Sequential([\n",
    "    Dense(1, activation='relu', input_shape=(1,)),\n",
    "    Dense(1, activation='sigmoid')\n",
    "])"
   ]
  },
  {
   "cell_type": "code",
   "execution_count": 7,
   "metadata": {},
   "outputs": [],
   "source": [
    "# Compile the model\n",
    "model.compile(optimizer='adam', loss='binary_crossentropy', metrics=['accuracy'])"
   ]
  },
  {
   "cell_type": "code",
   "execution_count": 8,
   "metadata": {},
   "outputs": [
    {
     "name": "stdout",
     "output_type": "stream",
     "text": [
      "Epoch 1/50\n",
      "80/80 [==============================] - 0s 2ms/step - loss: 0.6932 - accuracy: 0.5038\n",
      "Epoch 2/50\n",
      "80/80 [==============================] - 0s 2ms/step - loss: 0.6932 - accuracy: 0.5038\n",
      "Epoch 3/50\n",
      "80/80 [==============================] - 0s 2ms/step - loss: 0.6932 - accuracy: 0.5038\n",
      "Epoch 4/50\n",
      "80/80 [==============================] - 0s 2ms/step - loss: 0.6932 - accuracy: 0.5038\n",
      "Epoch 5/50\n",
      "80/80 [==============================] - 0s 2ms/step - loss: 0.6932 - accuracy: 0.5038\n",
      "Epoch 6/50\n",
      "80/80 [==============================] - 0s 2ms/step - loss: 0.6932 - accuracy: 0.5038\n",
      "Epoch 7/50\n",
      "80/80 [==============================] - 0s 2ms/step - loss: 0.6932 - accuracy: 0.5038\n",
      "Epoch 8/50\n",
      "80/80 [==============================] - 0s 2ms/step - loss: 0.6932 - accuracy: 0.5038\n",
      "Epoch 9/50\n",
      "80/80 [==============================] - 0s 2ms/step - loss: 0.6932 - accuracy: 0.5038\n",
      "Epoch 10/50\n",
      "80/80 [==============================] - 0s 2ms/step - loss: 0.6932 - accuracy: 0.5038\n",
      "Epoch 11/50\n",
      "80/80 [==============================] - 0s 2ms/step - loss: 0.6932 - accuracy: 0.5038\n",
      "Epoch 12/50\n",
      "80/80 [==============================] - 0s 2ms/step - loss: 0.6932 - accuracy: 0.5038\n",
      "Epoch 13/50\n",
      "80/80 [==============================] - 0s 2ms/step - loss: 0.6932 - accuracy: 0.5038\n",
      "Epoch 14/50\n",
      "80/80 [==============================] - 0s 2ms/step - loss: 0.6932 - accuracy: 0.5038\n",
      "Epoch 15/50\n",
      "80/80 [==============================] - 0s 2ms/step - loss: 0.6932 - accuracy: 0.5038\n",
      "Epoch 16/50\n",
      "80/80 [==============================] - 0s 2ms/step - loss: 0.6931 - accuracy: 0.5038\n",
      "Epoch 17/50\n",
      "80/80 [==============================] - 0s 2ms/step - loss: 0.6932 - accuracy: 0.5038\n",
      "Epoch 18/50\n",
      "80/80 [==============================] - 0s 2ms/step - loss: 0.6932 - accuracy: 0.5038\n",
      "Epoch 19/50\n",
      "80/80 [==============================] - 0s 2ms/step - loss: 0.6932 - accuracy: 0.5038\n",
      "Epoch 20/50\n",
      "80/80 [==============================] - 0s 2ms/step - loss: 0.6932 - accuracy: 0.5038\n",
      "Epoch 21/50\n",
      "80/80 [==============================] - 0s 2ms/step - loss: 0.6932 - accuracy: 0.5038\n",
      "Epoch 22/50\n",
      "80/80 [==============================] - 0s 2ms/step - loss: 0.6932 - accuracy: 0.5038\n",
      "Epoch 23/50\n",
      "80/80 [==============================] - 0s 2ms/step - loss: 0.6932 - accuracy: 0.5038\n",
      "Epoch 24/50\n",
      "80/80 [==============================] - 0s 2ms/step - loss: 0.6932 - accuracy: 0.5038\n",
      "Epoch 25/50\n",
      "80/80 [==============================] - 0s 2ms/step - loss: 0.6932 - accuracy: 0.5038\n",
      "Epoch 26/50\n",
      "80/80 [==============================] - 0s 2ms/step - loss: 0.6932 - accuracy: 0.5038\n",
      "Epoch 27/50\n",
      "80/80 [==============================] - 0s 2ms/step - loss: 0.6932 - accuracy: 0.5038\n",
      "Epoch 28/50\n",
      "80/80 [==============================] - 0s 2ms/step - loss: 0.6932 - accuracy: 0.5038\n",
      "Epoch 29/50\n",
      "80/80 [==============================] - 0s 2ms/step - loss: 0.6932 - accuracy: 0.5038\n",
      "Epoch 30/50\n",
      "80/80 [==============================] - 0s 2ms/step - loss: 0.6932 - accuracy: 0.5038\n",
      "Epoch 31/50\n",
      "80/80 [==============================] - 0s 2ms/step - loss: 0.6932 - accuracy: 0.5038\n",
      "Epoch 32/50\n",
      "80/80 [==============================] - 0s 2ms/step - loss: 0.6932 - accuracy: 0.5038\n",
      "Epoch 33/50\n",
      "80/80 [==============================] - 0s 2ms/step - loss: 0.6931 - accuracy: 0.5038\n",
      "Epoch 34/50\n",
      "80/80 [==============================] - 0s 2ms/step - loss: 0.6932 - accuracy: 0.5038\n",
      "Epoch 35/50\n",
      "80/80 [==============================] - 0s 2ms/step - loss: 0.6931 - accuracy: 0.5038\n",
      "Epoch 36/50\n",
      "80/80 [==============================] - 0s 2ms/step - loss: 0.6932 - accuracy: 0.5038\n",
      "Epoch 37/50\n",
      "80/80 [==============================] - 0s 2ms/step - loss: 0.6932 - accuracy: 0.5038\n",
      "Epoch 38/50\n",
      "80/80 [==============================] - 0s 2ms/step - loss: 0.6932 - accuracy: 0.5038\n",
      "Epoch 39/50\n",
      "80/80 [==============================] - 0s 2ms/step - loss: 0.6932 - accuracy: 0.5038\n",
      "Epoch 40/50\n",
      "80/80 [==============================] - 0s 2ms/step - loss: 0.6931 - accuracy: 0.5038\n",
      "Epoch 41/50\n",
      "80/80 [==============================] - 0s 2ms/step - loss: 0.6932 - accuracy: 0.5038\n",
      "Epoch 42/50\n",
      "80/80 [==============================] - 0s 2ms/step - loss: 0.6932 - accuracy: 0.5038\n",
      "Epoch 43/50\n",
      "80/80 [==============================] - 0s 2ms/step - loss: 0.6931 - accuracy: 0.5038\n",
      "Epoch 44/50\n",
      "80/80 [==============================] - 0s 2ms/step - loss: 0.6932 - accuracy: 0.5038\n",
      "Epoch 45/50\n",
      "80/80 [==============================] - 0s 2ms/step - loss: 0.6932 - accuracy: 0.5038\n",
      "Epoch 46/50\n",
      "80/80 [==============================] - 0s 2ms/step - loss: 0.6932 - accuracy: 0.5038\n",
      "Epoch 47/50\n",
      "80/80 [==============================] - 0s 2ms/step - loss: 0.6932 - accuracy: 0.5038\n",
      "Epoch 48/50\n",
      "80/80 [==============================] - 0s 2ms/step - loss: 0.6932 - accuracy: 0.5038\n",
      "Epoch 49/50\n",
      "80/80 [==============================] - 0s 2ms/step - loss: 0.6932 - accuracy: 0.5038\n",
      "Epoch 50/50\n",
      "80/80 [==============================] - 0s 2ms/step - loss: 0.6932 - accuracy: 0.5038\n"
     ]
    },
    {
     "data": {
      "text/plain": [
       "<keras.callbacks.History at 0x7fd2a004d5e0>"
      ]
     },
     "execution_count": 8,
     "metadata": {},
     "output_type": "execute_result"
    }
   ],
   "source": [
    "# Train the model\n",
    "model.fit(X_train, y_train, epochs=50, batch_size=10, verbose=1)\n",
    "# model.fit(X_train, y_train, epochs=50, batch_size=10, validation_split=0.2, verbose=1)"
   ]
  },
  {
   "cell_type": "code",
   "execution_count": 9,
   "metadata": {},
   "outputs": [
    {
     "name": "stdout",
     "output_type": "stream",
     "text": [
      "7/7 [==============================] - 0s 3ms/step - loss: 0.6922 - accuracy: 0.5650\n"
     ]
    },
    {
     "data": {
      "text/plain": [
       "[0.6922317743301392, 0.5649999976158142]"
      ]
     },
     "execution_count": 9,
     "metadata": {},
     "output_type": "execute_result"
    }
   ],
   "source": [
    "model.evaluate(X_test, y_test)"
   ]
  },
  {
   "cell_type": "code",
   "execution_count": null,
   "metadata": {},
   "outputs": [
    {
     "name": "stdout",
     "output_type": "stream",
     "text": [
      "1/1 [==============================] - 0s 47ms/step\n",
      "Input: 0.1 -> Output: 0.50\n",
      "Input: 4.4 -> Output: 0.50\n",
      "Input: 5.0 -> Output: 0.50\n",
      "Input: 5.6 -> Output: 0.50\n",
      "Input: 7.8 -> Output: 0.50\n",
      "Input: 9.9 -> Output: 0.50\n"
     ]
    }
   ],
   "source": [
    "# Predict the test data\n",
    "# give the output \n",
    "test_input = np.array([0.1, 4.4, 5, 5.6, 7.8, 9.9])\n",
    "y_pred = model.predict(test_input)\n",
    "\n",
    "# print the output mapped to the input rounded to 2 decimal places\n",
    "for i in range(len(test_input)):\n",
    "    print(f'Input: {test_input[i]} -> Output: {y_pred[i][0]:.2f}')"
   ]
  },
  {
   "cell_type": "code",
   "execution_count": 43,
   "metadata": {},
   "outputs": [],
   "source": [
    "def relu(x):\n",
    "    return max(0, x)\n",
    "\n",
    "# get sigmoid function\n",
    "def sigmoid(x):\n",
    "    return 1 / (1 + np.exp(-x))"
   ]
  },
  {
   "cell_type": "code",
   "execution_count": 44,
   "metadata": {},
   "outputs": [
    {
     "name": "stdout",
     "output_type": "stream",
     "text": [
      "Model: \"sequential\"\n",
      "_________________________________________________________________\n",
      " Layer (type)                Output Shape              Param #   \n",
      "=================================================================\n",
      " dense (Dense)               (None, 1)                 2         \n",
      "                                                                 \n",
      " dense_1 (Dense)             (None, 1)                 2         \n",
      "                                                                 \n",
      "=================================================================\n",
      "Total params: 4\n",
      "Trainable params: 4\n",
      "Non-trainable params: 0\n",
      "_________________________________________________________________\n",
      "Layer weights: [-0.28346837] Layer biases: 0.0\n",
      "Layer weights: [0.37366974] Layer biases: -0.014487870037555695\n"
     ]
    }
   ],
   "source": [
    "# show the model summary\n",
    "model.summary()\n",
    "\n",
    "# print the model weights and biases\n",
    "for layer in model.layers:\n",
    "    weights = layer.get_weights()\n",
    "    print(f'Layer weights: {weights[0][0]}', f'Layer biases: {weights[1][0]}', sep=' ')"
   ]
  },
  {
   "cell_type": "code",
   "execution_count": 45,
   "metadata": {},
   "outputs": [
    {
     "name": "stdout",
     "output_type": "stream",
     "text": [
      "Layer 0 weights: [-0.28346837]\n",
      "Layer 0 biases: 0.0\n",
      "Layer 1 weights: [0.37366974]\n",
      "Layer 1 biases: -0.014487870037555695\n"
     ]
    }
   ],
   "source": [
    "l_0_w = model.layers[0].get_weights()[0][0]\n",
    "l_0_b = model.layers[0].get_weights()[1][0]\n",
    "l_1_w = model.layers[1].get_weights()[0][0]\n",
    "l_1_b = model.layers[1].get_weights()[1][0]\n",
    "print(f'Layer 0 weights: {l_0_w}', f'Layer 0 biases: {l_0_b}', f'Layer 1 weights: {l_1_w}', f'Layer 1 biases: {l_1_b}', sep='\\n')"
   ]
  },
  {
   "cell_type": "code",
   "execution_count": 47,
   "metadata": {},
   "outputs": [],
   "source": [
    "def my_model(x):\n",
    "    print(f'Input: {x}')\n",
    "    z_0 = l_0_w * x + l_0_b\n",
    "    print(f'{l_0_w} * {x} + {l_0_b} = {z_0}')\n",
    "    a_0 = relu(z_0)\n",
    "    print(f'ReLU({z_0}) = {a_0}')\n",
    "    z_1 = l_1_w * a_0 + l_1_b\n",
    "    print(f'{l_1_w} * {a_0} + {l_1_b} = {z_1}')\n",
    "    a_1 = sigmoid(z_1)\n",
    "    print(f'Sigmoid({z_1}) = {a_1}')\n",
    "    return"
   ]
  },
  {
   "cell_type": "code",
   "execution_count": 50,
   "metadata": {},
   "outputs": [
    {
     "name": "stdout",
     "output_type": "stream",
     "text": [
      "Input: 7\n",
      "[-0.28346837] * 7 + 0.0 = [-1.9842786]\n",
      "ReLU([-1.9842786]) = 0\n",
      "[0.37366974] * 0 + -0.014487870037555695 = [-0.01448787]\n",
      "Sigmoid([-0.01448787]) = [0.49637815]\n"
     ]
    }
   ],
   "source": [
    "my_model(7)"
   ]
  },
  {
   "cell_type": "code",
   "execution_count": null,
   "metadata": {},
   "outputs": [
    {
     "name": "stdout",
     "output_type": "stream",
     "text": [
      "Model: \"sequential\"\n",
      "_________________________________________________________________\n",
      " Layer (type)                Output Shape              Param #   \n",
      "=================================================================\n",
      " dense (Dense)               (None, 1)                 2         \n",
      "                                                                 \n",
      " dense_1 (Dense)             (None, 1)                 2         \n",
      "                                                                 \n",
      "=================================================================\n",
      "Total params: 4\n",
      "Trainable params: 4\n",
      "Non-trainable params: 0\n",
      "_________________________________________________________________\n",
      "Layer weights: [[-0.28346837]]\n",
      "Layer biases: [0.]\n",
      "Layer weights: [[0.37366974]]\n",
      "Layer biases: [-0.01448787]\n"
     ]
    }
   ],
   "source": []
  },
  {
   "cell_type": "code",
   "execution_count": null,
   "metadata": {},
   "outputs": [],
   "source": [
    "\n"
   ]
  }
 ],
 "metadata": {
  "kernelspec": {
   "display_name": "mlgeneral",
   "language": "python",
   "name": "python3"
  },
  "language_info": {
   "codemirror_mode": {
    "name": "ipython",
    "version": 3
   },
   "file_extension": ".py",
   "mimetype": "text/x-python",
   "name": "python",
   "nbconvert_exporter": "python",
   "pygments_lexer": "ipython3",
   "version": "3.8.15"
  }
 },
 "nbformat": 4,
 "nbformat_minor": 2
}
