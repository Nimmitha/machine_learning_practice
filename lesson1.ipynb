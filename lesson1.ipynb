{
 "cells": [
  {
   "cell_type": "code",
   "execution_count": 9,
   "metadata": {},
   "outputs": [
    {
     "name": "stderr",
     "output_type": "stream",
     "text": [
      "2024-11-10 21:01:52.713254: I tensorflow/core/platform/cpu_feature_guard.cc:193] This TensorFlow binary is optimized with oneAPI Deep Neural Network Library (oneDNN) to use the following CPU instructions in performance-critical operations:  SSE4.1 SSE4.2 AVX AVX2 AVX512F AVX512_VNNI FMA\n",
      "To enable them in other operations, rebuild TensorFlow with the appropriate compiler flags.\n",
      "2024-11-10 21:01:52.938046: I tensorflow/core/util/util.cc:169] oneDNN custom operations are on. You may see slightly different numerical results due to floating-point round-off errors from different computation orders. To turn them off, set the environment variable `TF_ENABLE_ONEDNN_OPTS=0`.\n"
     ]
    }
   ],
   "source": [
    "import numpy as np\n",
    "import tensorflow as tf\n",
    "from tensorflow.keras.models import Sequential\n",
    "from tensorflow.keras.layers import Dense\n",
    "from sklearn.model_selection import train_test_split\n",
    "from sklearn.preprocessing import StandardScaler"
   ]
  },
  {
   "cell_type": "code",
   "execution_count": 6,
   "metadata": {},
   "outputs": [],
   "source": [
    "# create 1000 random numbers between 0 and 10\n",
    "trainX = np.random.rand(1000) * 10\n",
    "# assign 0 or 1 to each number based on whether it is greater than 5\n",
    "trainY = np.array([1 if x > 5 else 0 for x in trainX])"
   ]
  },
  {
   "cell_type": "code",
   "execution_count": 10,
   "metadata": {},
   "outputs": [],
   "source": [
    "# Assuming trainX and trainY are already defined\n",
    "# Split the data into training and testing sets\n",
    "X_train, X_test, y_train, y_test = train_test_split(trainX, trainY, test_size=0.2, random_state=42)"
   ]
  },
  {
   "cell_type": "code",
   "execution_count": 14,
   "metadata": {},
   "outputs": [],
   "source": [
    "# Standardize the data\n",
    "# scaler = StandardScaler()"
   ]
  },
  {
   "cell_type": "code",
   "execution_count": 32,
   "metadata": {},
   "outputs": [],
   "source": [
    "# Define the neural network model\n",
    "model = Sequential([\n",
    "    Dense(1, activation='relu', input_shape=(1,)),\n",
    "    Dense(1, activation='sigmoid')\n",
    "])"
   ]
  },
  {
   "cell_type": "code",
   "execution_count": 33,
   "metadata": {},
   "outputs": [],
   "source": [
    "# Compile the model\n",
    "model.compile(optimizer='adam', loss='binary_crossentropy', metrics=['accuracy'])"
   ]
  },
  {
   "cell_type": "code",
   "execution_count": 46,
   "metadata": {},
   "outputs": [
    {
     "name": "stdout",
     "output_type": "stream",
     "text": [
      "Epoch 1/50\n",
      "80/80 [==============================] - 0s 4ms/step - loss: 3.3452 - accuracy: 0.3887\n",
      "Epoch 2/50\n",
      "80/80 [==============================] - 0s 4ms/step - loss: 2.8796 - accuracy: 0.3638\n",
      "Epoch 3/50\n",
      "80/80 [==============================] - 0s 4ms/step - loss: 2.4735 - accuracy: 0.3313\n",
      "Epoch 4/50\n",
      "80/80 [==============================] - 0s 4ms/step - loss: 2.1302 - accuracy: 0.2988\n",
      "Epoch 5/50\n",
      "80/80 [==============================] - 0s 4ms/step - loss: 1.8409 - accuracy: 0.2550\n",
      "Epoch 6/50\n",
      "80/80 [==============================] - 0s 4ms/step - loss: 1.6073 - accuracy: 0.2200\n",
      "Epoch 7/50\n",
      "80/80 [==============================] - 0s 4ms/step - loss: 1.4205 - accuracy: 0.1800\n",
      "Epoch 8/50\n",
      "80/80 [==============================] - 0s 4ms/step - loss: 1.2759 - accuracy: 0.1225\n",
      "Epoch 9/50\n",
      "80/80 [==============================] - 0s 4ms/step - loss: 1.1655 - accuracy: 0.0625\n",
      "Epoch 10/50\n",
      "80/80 [==============================] - 0s 4ms/step - loss: 1.0810 - accuracy: 0.0113\n",
      "Epoch 11/50\n",
      "80/80 [==============================] - 0s 5ms/step - loss: 1.0161 - accuracy: 0.0587\n",
      "Epoch 12/50\n",
      "80/80 [==============================] - 0s 4ms/step - loss: 0.9650 - accuracy: 0.1325\n",
      "Epoch 13/50\n",
      "80/80 [==============================] - 0s 4ms/step - loss: 0.9225 - accuracy: 0.2150\n",
      "Epoch 14/50\n",
      "80/80 [==============================] - 0s 4ms/step - loss: 0.8845 - accuracy: 0.3000\n",
      "Epoch 15/50\n",
      "80/80 [==============================] - 0s 5ms/step - loss: 0.8484 - accuracy: 0.4137\n",
      "Epoch 16/50\n",
      "80/80 [==============================] - 0s 5ms/step - loss: 0.8104 - accuracy: 0.5138\n",
      "Epoch 17/50\n",
      "80/80 [==============================] - 0s 4ms/step - loss: 0.7735 - accuracy: 0.5175\n",
      "Epoch 18/50\n",
      "80/80 [==============================] - 0s 4ms/step - loss: 0.7480 - accuracy: 0.5175\n",
      "Epoch 19/50\n",
      "80/80 [==============================] - 0s 4ms/step - loss: 0.7326 - accuracy: 0.5175\n",
      "Epoch 20/50\n",
      "80/80 [==============================] - 0s 4ms/step - loss: 0.7243 - accuracy: 0.5175\n",
      "Epoch 21/50\n",
      "80/80 [==============================] - 0s 4ms/step - loss: 0.7194 - accuracy: 0.5175\n",
      "Epoch 22/50\n",
      "80/80 [==============================] - 0s 4ms/step - loss: 0.7156 - accuracy: 0.5175\n",
      "Epoch 23/50\n",
      "80/80 [==============================] - 0s 4ms/step - loss: 0.7123 - accuracy: 0.5175\n",
      "Epoch 24/50\n",
      "80/80 [==============================] - 0s 4ms/step - loss: 0.7095 - accuracy: 0.5175\n",
      "Epoch 25/50\n",
      "80/80 [==============================] - 0s 4ms/step - loss: 0.7070 - accuracy: 0.5175\n",
      "Epoch 26/50\n",
      "80/80 [==============================] - 0s 4ms/step - loss: 0.7048 - accuracy: 0.5175\n",
      "Epoch 27/50\n",
      "80/80 [==============================] - 0s 4ms/step - loss: 0.7030 - accuracy: 0.5175\n",
      "Epoch 28/50\n",
      "80/80 [==============================] - 0s 4ms/step - loss: 0.7013 - accuracy: 0.5175\n",
      "Epoch 29/50\n",
      "80/80 [==============================] - 0s 4ms/step - loss: 0.6999 - accuracy: 0.5175\n",
      "Epoch 30/50\n",
      "80/80 [==============================] - 0s 4ms/step - loss: 0.6987 - accuracy: 0.5175\n",
      "Epoch 31/50\n",
      "80/80 [==============================] - 0s 3ms/step - loss: 0.6977 - accuracy: 0.5175\n",
      "Epoch 32/50\n",
      "80/80 [==============================] - 0s 3ms/step - loss: 0.6968 - accuracy: 0.5175\n",
      "Epoch 33/50\n",
      "80/80 [==============================] - 0s 4ms/step - loss: 0.6961 - accuracy: 0.5175\n",
      "Epoch 34/50\n",
      "80/80 [==============================] - 0s 3ms/step - loss: 0.6955 - accuracy: 0.5175\n",
      "Epoch 35/50\n",
      "80/80 [==============================] - 0s 3ms/step - loss: 0.6950 - accuracy: 0.5175\n",
      "Epoch 36/50\n",
      "80/80 [==============================] - 0s 3ms/step - loss: 0.6945 - accuracy: 0.5175\n",
      "Epoch 37/50\n",
      "80/80 [==============================] - 0s 4ms/step - loss: 0.6942 - accuracy: 0.5175\n",
      "Epoch 38/50\n",
      "80/80 [==============================] - 0s 4ms/step - loss: 0.6939 - accuracy: 0.5175\n",
      "Epoch 39/50\n",
      "80/80 [==============================] - 0s 4ms/step - loss: 0.6937 - accuracy: 0.5175\n",
      "Epoch 40/50\n",
      "80/80 [==============================] - 0s 4ms/step - loss: 0.6934 - accuracy: 0.5175\n",
      "Epoch 41/50\n",
      "80/80 [==============================] - 0s 4ms/step - loss: 0.6933 - accuracy: 0.5175\n",
      "Epoch 42/50\n",
      "80/80 [==============================] - 0s 4ms/step - loss: 0.6931 - accuracy: 0.5175\n",
      "Epoch 43/50\n",
      "80/80 [==============================] - 0s 4ms/step - loss: 0.6930 - accuracy: 0.5175\n",
      "Epoch 44/50\n",
      "80/80 [==============================] - 0s 4ms/step - loss: 0.6930 - accuracy: 0.5175\n",
      "Epoch 45/50\n",
      "80/80 [==============================] - 0s 4ms/step - loss: 0.6929 - accuracy: 0.5175\n",
      "Epoch 46/50\n",
      "80/80 [==============================] - 0s 4ms/step - loss: 0.6928 - accuracy: 0.5175\n",
      "Epoch 47/50\n",
      "80/80 [==============================] - 0s 4ms/step - loss: 0.6927 - accuracy: 0.5175\n",
      "Epoch 48/50\n",
      "80/80 [==============================] - 0s 4ms/step - loss: 0.6927 - accuracy: 0.5175\n",
      "Epoch 49/50\n",
      "80/80 [==============================] - 0s 4ms/step - loss: 0.6927 - accuracy: 0.5175\n",
      "Epoch 50/50\n",
      "80/80 [==============================] - 0s 4ms/step - loss: 0.6927 - accuracy: 0.5175\n"
     ]
    },
    {
     "data": {
      "text/plain": [
       "<keras.callbacks.History at 0x7f9e2c11a9a0>"
      ]
     },
     "execution_count": 46,
     "metadata": {},
     "output_type": "execute_result"
    }
   ],
   "source": [
    "# Train the model\n",
    "model.fit(X_train, y_train, epochs=50, batch_size=10, verbose=1)\n",
    "# model.fit(X_train, y_train, epochs=50, batch_size=10, validation_split=0.2, verbose=1)"
   ]
  },
  {
   "cell_type": "code",
   "execution_count": 47,
   "metadata": {},
   "outputs": [
    {
     "name": "stdout",
     "output_type": "stream",
     "text": [
      "7/7 [==============================] - 0s 5ms/step - loss: 0.6952 - accuracy: 0.4900\n"
     ]
    },
    {
     "data": {
      "text/plain": [
       "[0.6952134966850281, 0.49000000953674316]"
      ]
     },
     "execution_count": 47,
     "metadata": {},
     "output_type": "execute_result"
    }
   ],
   "source": [
    "model.evaluate(X_test, y_test)"
   ]
  },
  {
   "cell_type": "code",
   "execution_count": 48,
   "metadata": {},
   "outputs": [
    {
     "name": "stdout",
     "output_type": "stream",
     "text": [
      "1/1 [==============================] - 0s 20ms/step\n",
      "Input: 0.1 -> Output: 0.52\n",
      "Input: 4.4 -> Output: 0.52\n",
      "Input: 5.0 -> Output: 0.52\n",
      "Input: 5.6 -> Output: 0.52\n",
      "Input: 7.8 -> Output: 0.52\n",
      "Input: 9.9 -> Output: 0.52\n"
     ]
    }
   ],
   "source": [
    "# Predict the test data\n",
    "# give the output \n",
    "test_input = np.array([0.1, 4.4, 5, 5.6, 7.8, 9.9])\n",
    "y_pred = model.predict(test_input)\n",
    "\n",
    "# print the output mapped to the input rounded to 2 decimal places\n",
    "for i in range(len(test_input)):\n",
    "    print(f'Input: {test_input[i]} -> Output: {y_pred[i][0]:.2f}')"
   ]
  },
  {
   "cell_type": "code",
   "execution_count": null,
   "metadata": {},
   "outputs": [],
   "source": []
  }
 ],
 "metadata": {
  "kernelspec": {
   "display_name": "mlgeneral",
   "language": "python",
   "name": "python3"
  },
  "language_info": {
   "codemirror_mode": {
    "name": "ipython",
    "version": 3
   },
   "file_extension": ".py",
   "mimetype": "text/x-python",
   "name": "python",
   "nbconvert_exporter": "python",
   "pygments_lexer": "ipython3",
   "version": "3.8.15"
  }
 },
 "nbformat": 4,
 "nbformat_minor": 2
}
